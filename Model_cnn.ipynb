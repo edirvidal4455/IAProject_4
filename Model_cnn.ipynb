{
 "cells": [
  {
   "cell_type": "code",
   "execution_count": null,
   "metadata": {
    "pycharm": {
     "is_executing": true,
     "name": "#%%\n"
    }
   },
   "outputs": [],
   "source": [
    "import pandas as pd\n",
    "import deepsmiles\n",
    "import torch\n",
    "from torch import nn\n",
    "import numpy as np\n",
    "import matplotlib.pyplot as plt\n",
    "import random\n",
    "import torch\n"
   ]
  },
  {
   "cell_type": "code",
   "execution_count": null,
   "metadata": {
    "pycharm": {
     "name": "#%%\n"
    }
   },
   "outputs": [],
   "source": [
    "device = torch.device('cuda:0' if torch.cuda.is_available() else 'cpu')"
   ]
  },
  {
   "cell_type": "markdown",
   "metadata": {
    "pycharm": {
     "name": "#%% md\n"
    }
   },
   "source": [
    "### DATA SET"
   ]
  },
  {
   "cell_type": "code",
   "execution_count": null,
   "metadata": {
    "pycharm": {
     "name": "#%%\n"
    }
   },
   "outputs": [],
   "source": [
    "path=\"../BD/DeepSmile.csv\"\n",
    "df=df = pd.read_csv(path, sep=\",\")\n",
    "\n",
    "converter = deepsmiles.Converter(rings=True, branches=True)"
   ]
  },
  {
   "cell_type": "code",
   "execution_count": null,
   "metadata": {
    "pycharm": {
     "name": "#%%\n"
    }
   },
   "outputs": [],
   "source": [
    "deep_SMILES = []\n",
    "for i in range(len(df)):\n",
    "  deep_smile = converter.encode(df.smiles[i])\n",
    "  deep_SMILES.append(deep_smile)\n",
    "\n",
    "df[\"DeepSmiles\"] = deep_SMILES"
   ]
  },
  {
   "cell_type": "code",
   "execution_count": null,
   "metadata": {
    "pycharm": {
     "name": "#%%\n"
    }
   },
   "outputs": [],
   "source": [
    "df.to_csv(\"../DeepSmiles.csv\",index=False)\n",
    "path = \"../DeepSmiles.csv\""
   ]
  },
  {
   "cell_type": "markdown",
   "metadata": {
    "pycharm": {
     "name": "#%% md\n"
    }
   },
   "source": [
    "#### CREACION DE VECTORES CARACTERISTICOS"
   ]
  },
  {
   "cell_type": "code",
   "execution_count": null,
   "metadata": {
    "pycharm": {
     "name": "#%%\n"
    }
   },
   "outputs": [],
   "source": [
    "path = \"../BD/DeepSmiles.csv\"\n",
    "df = pd.read_csv(path, sep=\",\")\n"
   ]
  },
  {
   "cell_type": "code",
   "execution_count": null,
   "metadata": {
    "pycharm": {
     "name": "#%%\n"
    }
   },
   "outputs": [],
   "source": [
    "max = 0\n",
    "for i in range(len(df)):\n",
    "  if len(df.DeepSmiles[i]) > max:\n",
    "    max = len(df.DeepSmiles[i])\n",
    "print(max)"
   ]
  },
  {
   "cell_type": "code",
   "execution_count": null,
   "metadata": {
    "pycharm": {
     "name": "#%%\n"
    }
   },
   "outputs": [],
   "source": [
    "x = set(list(' '.join(df.smiles.values)))\n",
    "keys = []\n",
    "for char in x:\n",
    "  keys.append(char)\n",
    "\n",
    "OHE_smiles = []\n",
    "\n",
    "for smile in df.smiles.values[0:5000]:\n",
    "  matrix = np.zeros((264,34)) #34 is the number of unique characters, 254 is the number of the max length of the SMILES string\n",
    "  for count,char in enumerate(smile):\n",
    "    for count2,key in enumerate(keys):\n",
    "      if key == char:\n",
    "        matrix[count][count2] = 1\n",
    "  OHE_smiles.append(matrix.T)\n",
    "\n",
    "  input_shape = (264, 34)"
   ]
  },
  {
   "cell_type": "markdown",
   "metadata": {
    "pycharm": {
     "name": "#%% md\n"
    }
   },
   "source": [
    "### CNN-BATCH-TRAIN-TEST\n"
   ]
  },
  {
   "cell_type": "code",
   "execution_count": null,
   "metadata": {
    "pycharm": {
     "name": "#%%\n"
    }
   },
   "outputs": [],
   "source": [
    "class CNN(torch.nn.Module):\n",
    "  def __init__(self):\n",
    "    super(CNN,self).__init__()\n",
    "    self.layer1 =  nn.Sequential(\n",
    "        nn.Conv1d(in_channels = 34 , out_channels = 32, kernel_size = 3, stride = 1, padding = 2),\n",
    "        nn.ReLU(),\n",
    "        nn.Conv1d(in_channels =  32 , out_channels = 16, kernel_size = 3, stride = 1, padding = 2),\n",
    "        nn.ReLU(),\n",
    "        nn.MaxPool1d(kernel_size=2, stride=2))\n",
    "    self.fc =  nn.Sequential(\n",
    "        nn.Linear(2144, 1000),\n",
    "        nn.ReLU(),\n",
    "        nn.Linear(1000, 50),\n",
    "        nn.ReLU(),\n",
    "        nn.Linear(50, 1),\n",
    "        nn.Sigmoid()\n",
    "        )\n",
    "\n",
    "  def forward(self, x):\n",
    "    out = self.layer1(x)\n",
    "    out = out.reshape(out.size(0), -1)\n",
    "    output = self.fc(out)\n",
    "    return output\n",
    "\n",
    "\n",
    "\n",
    "\n",
    "\n",
    "def batch(x_train, y_train, batch_number):\n",
    "  model.eval()\n",
    "  with torch.no_grad():\n",
    "\n",
    "    list1 = range(len(x_train))\n",
    "    n_batch = random.sample(list1, batch_number)\n",
    "    x_batch =  x_train[n_batch,:,:]\n",
    "    y_batch = y_train[n_batch]\n",
    "\n",
    "  return x_batch, y_batch\n",
    "\n",
    "\n",
    "\n",
    "def train(model, funcion, optimizer,epochs, x_train, y_train, x_test, y_test, batch_number):\n",
    "  loss_lista_train = []\n",
    "  loss_lista_test = []\n",
    "  i=0\n",
    "\n",
    "  for epoch in range(epochs):\n",
    "\n",
    "    x_batch, y_batch = batch(x_train, y_train, batch_number)\n",
    "\n",
    "\n",
    "    x_batch = x_batch.to(device)\n",
    "    y_pred =   model(x_batch)\n",
    "    y_batch = y_batch.to(device)\n",
    "    loss = funcion(y_pred,y_batch.unsqueeze(1))\n",
    "    loss_lista_train.append(loss.cpu().detach().numpy())\n",
    "    i=i+1\n",
    "\n",
    "    model.eval()\n",
    "    with torch.no_grad():\n",
    "      x_test = x_test.to(device)\n",
    "      y_pred_test =   model(x_test)\n",
    "      y_test = y_test.to(device)\n",
    "      loss_test = funcion(y_pred_test,y_test.unsqueeze(1))\n",
    "      loss_lista_test.append(loss_test.cpu().detach().numpy())\n",
    "\n",
    "\n",
    "\n",
    "    if (epoch%10==0):\n",
    "      print('Epoch {}: train loss: {}'.format(epoch, loss.item()))    # Backward pass\n",
    "    model.train()\n",
    "    optimizer.zero_grad()\n",
    "    loss.backward()\n",
    "    optimizer.step()\n",
    "    if (epoch%10==0):\n",
    "      test(model, x_test, y_test)\n",
    "\n",
    "  return loss_lista_train, loss_lista_test\n",
    "\n",
    "def test(model, x_test, y_test):\n",
    "  x_test = x_test.to(device)\n",
    "  y_test = y_test.to(device)\n",
    "  y_pred =   model(x_test)\n",
    "  predictions_label = [1 if y_pred[i] >= 0.5 else 0 for i in range(len(y_pred))]\n",
    "  pred = torch.Tensor(predictions_label)\n",
    "  pred = pred.to(device)\n",
    "  Com = torch.eq(y_test,pred)\n",
    "  accu = sum(Com.long())/len(Com)\n",
    "  print(accu)\n",
    "  return\n"
   ]
  },
  {
   "cell_type": "markdown",
   "metadata": {
    "pycharm": {
     "name": "#%% md\n"
    }
   },
   "source": [
    "####  Definición de datos de entrada y datos de salida deseados"
   ]
  },
  {
   "cell_type": "code",
   "execution_count": null,
   "metadata": {
    "pycharm": {
     "name": "#%%\n"
    }
   },
   "outputs": [],
   "source": [
    "x = np.array(OHE_smiles)\n",
    "y = np.array(df.PPARD.values[0:10000])\n",
    "y_class = np.array([])\n",
    "for item in y:\n",
    "  if item <= -10.0:\n",
    "    y_class = np.append(y_class,1)\n",
    "  else:\n",
    "    y_class = np.append(y_class,0)\n",
    "\n",
    "x_train = x[0:3000]\n",
    "y_train = y_class[0:3000]\n",
    "x_test = x[3000:5000]\n",
    "y_test = y_class[3000:5000]"
   ]
  },
  {
   "cell_type": "code",
   "execution_count": null,
   "metadata": {
    "pycharm": {
     "name": "#%%\n"
    }
   },
   "outputs": [],
   "source": [
    "x_train = torch.from_numpy(x_train).float()\n",
    "y_train = torch.from_numpy(y_train).float()\n",
    "x_test  = torch.from_numpy(x_test).float()\n",
    "y_test  = torch.from_numpy(y_test).float()"
   ]
  },
  {
   "cell_type": "markdown",
   "metadata": {
    "pycharm": {
     "name": "#%% md\n"
    }
   },
   "source": [
    "#### LLAMADA DEL MODELO"
   ]
  },
  {
   "cell_type": "code",
   "execution_count": null,
   "metadata": {
    "pycharm": {
     "name": "#%%\n"
    }
   },
   "outputs": [],
   "source": [
    "model = CNN().to(device)\n",
    "f_loss = torch.nn.BCELoss()\n",
    "optimizer = torch.optim.Adam(model.parameters(), lr = 0.001)"
   ]
  },
  {
   "cell_type": "markdown",
   "metadata": {
    "pycharm": {
     "name": "#%% md\n"
    }
   },
   "source": [
    "### Entrenamiento del modelo"
   ]
  },
  {
   "cell_type": "code",
   "execution_count": null,
   "metadata": {
    "pycharm": {
     "name": "#%%\n"
    }
   },
   "outputs": [],
   "source": [
    "print(\"Modelo\")\n",
    "loss_lista_train, loss_lista_test = train(model,f_loss, optimizer, 250, x_train,y_train, x_test, y_test, 300)"
   ]
  },
  {
   "cell_type": "markdown",
   "metadata": {
    "pycharm": {
     "name": "#%% md\n"
    }
   },
   "source": [
    "### Evaluacion de resultados"
   ]
  },
  {
   "cell_type": "code",
   "execution_count": null,
   "metadata": {
    "pycharm": {
     "is_executing": true,
     "name": "#%%\n"
    }
   },
   "outputs": [],
   "source": [
    "import matplotlib.pyplot as plt\n",
    "import numpy\n",
    "from sklearn import metrics\n",
    "\n",
    "\n",
    "\n",
    "x_test= x_test.to(device)\n",
    "\n",
    "predicted =   model(x_test)\n",
    "\n",
    "predicted = predicted.cpu()\n",
    "\n",
    "predictions_label = [1 if predicted[i] >= 0.5 else 0 for i in range(len(predicted))]\n",
    "\n",
    "y_test = y_test.cpu()\n",
    "\n",
    "real = [1 if y_test[i] >= 0.5 else 0 for i in range(len(y_test))]\n",
    "\n",
    "confusion_matrix = metrics.confusion_matrix(real, predictions_label )\n",
    "\n",
    "cm_display = metrics.ConfusionMatrixDisplay(confusion_matrix = confusion_matrix, display_labels = [False, True])\n",
    "\n",
    "cm_display.plot()\n",
    "plt.show()\n",
    "Accuracy = metrics.accuracy_score(real, predictions_label )\n",
    "print(\"Accuracy\",Accuracy)\n",
    "Precision = metrics.precision_score(real, predictions_label )\n",
    "print(\"Precision\",Precision)\n",
    "Sensitivity_recall = metrics.recall_score(real, predictions_label)\n",
    "print(\"Sensitivity_recall\",Sensitivity_recall)"
   ]
  },
  {
   "cell_type": "markdown",
   "metadata": {
    "pycharm": {
     "name": "#%% md\n"
    }
   },
   "source": [
    "#### MAPAS DE VALIDACION DE TRAIN Y TEST"
   ]
  },
  {
   "cell_type": "code",
   "execution_count": null,
   "metadata": {
    "pycharm": {
     "name": "#%%\n"
    }
   },
   "outputs": [],
   "source": [
    "import matplotlib.pyplot as plt\n",
    "\n",
    "plt.plot(loss_lista_train, label = \"train\")\n",
    "plt.plot(loss_lista_test, label = \"test\")\n",
    "plt.xlabel(\"Epocas\")\n",
    "plt.ylabel(\"Error\")\n",
    "plt.legend()\n",
    "plt.show()"
   ]
  }
 ],
 "metadata": {
  "language_info": {
   "name": "python"
  },
  "orig_nbformat": 4
 },
 "nbformat": 4,
 "nbformat_minor": 2
}
